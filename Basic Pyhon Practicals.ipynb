{
  "nbformat": 4,
  "nbformat_minor": 0,
  "metadata": {
    "colab": {
      "provenance": []
    },
    "kernelspec": {
      "name": "python3",
      "display_name": "Python 3"
    },
    "language_info": {
      "name": "python"
    }
  },
  "cells": [
    {
      "cell_type": "markdown",
      "source": [
        "\n",
        "**PRACTICAL-1**"
      ],
      "metadata": {
        "id": "NiAZ6Td6WhpG"
      }
    },
    {
      "cell_type": "markdown",
      "source": [
        "**PRACTICAL-2**"
      ],
      "metadata": {
        "id": "dq-1kd3CSb6G"
      }
    },
    {
      "cell_type": "code",
      "execution_count": null,
      "metadata": {
        "id": "bgH6csOYS--C",
        "colab": {
          "base_uri": "https://localhost:8080/"
        },
        "outputId": "93a81adb-9db6-4b88-fc53-33e5c0260e6c"
      },
      "outputs": [
        {
          "output_type": "stream",
          "name": "stdout",
          "text": [
            "Enter your name = khush\n",
            "Enter your contact number = (931)-6890367\n",
            "Enter your email address = khushdiyora55@gmail.com\n",
            "Enter your birthdate = 31-10-2006\n",
            "Your name is khush\n",
            "Your contact number is (931)-6890367\n",
            "Your email address is khushdiyora55@gmail.com\n",
            "Your birthdate is 31-10-2006\n"
          ]
        }
      ],
      "source": [
        "#PRACTICAL-2\n",
        "name = input(\"Enter your name = \")\n",
        "contact_number = input(\"Enter your contact number = \")\n",
        "email = input(\"Enter your email address = \")\n",
        "birthdate = input(\"Enter your birthdate = \")\n",
        "# Print the user's details on the screen.\n",
        "print(\"Your name is\", name)\n",
        "print(\"Your contact number is\", contact_number)\n",
        "print(\"Your email address is\", email)\n",
        "print(\"Your birthdate is\", birthdate)"
      ]
    },
    {
      "cell_type": "markdown",
      "source": [
        "**PRACTICAL-3(A)**"
      ],
      "metadata": {
        "id": "13qHZr8FSoa1"
      }
    },
    {
      "cell_type": "code",
      "source": [
        "#PRACTICAL-3(A)\n",
        "\n",
        "# Input temperature in Celsius\n",
        "celsius = float(input(\"Enter temperature in Celsius: \"))\n",
        "fahrenheit = (celsius * 9/5) + 32\n",
        "# Print the result\n",
        "print(f\"{celsius} degrees Celsius is equal to {fahrenheit:.2f} degrees Fahrenheit\")"
      ],
      "metadata": {
        "colab": {
          "base_uri": "https://localhost:8080/"
        },
        "id": "7X8xsDtzZwgE",
        "outputId": "082c164a-8a1a-4d1f-f714-ec4a5d8970fd"
      },
      "execution_count": null,
      "outputs": [
        {
          "output_type": "stream",
          "name": "stdout",
          "text": [
            "Enter temperature in Celsius: 30\n",
            "30.0 degrees Celsius is equal to 86.00 degrees Fahrenheit\n"
          ]
        }
      ]
    },
    {
      "cell_type": "markdown",
      "source": [
        "**PRACTICAL-3(B)**\n"
      ],
      "metadata": {
        "id": "_-Mrb54vS2ZV"
      }
    },
    {
      "cell_type": "code",
      "source": [
        "#PRACTICAL-3(B)\n",
        "\n",
        "# Input the coordinates of two points\n",
        "x1 = float(input(\"Enter x1: \"))\n",
        "y1 = float(input(\"Enter y1: \"))\n",
        "x2 = float(input(\"Enter x2: \"))\n",
        "y2 = float(input(\"Enter y2: \"))\n",
        "\n",
        "# Compute the slope\n",
        "if x2 - x1 != 0:  # Check if the denominator is not zero\n",
        "    slope = (y2 - y1) / (x2 - x1)\n",
        "    print(f\"The slope of the line between ({x1}, {y1}) and ({x2}, {y2}) is {slope:.2f}\")\n",
        "else:\n",
        "    print(\"The slope is undefined because x2 - x1 is zero (vertical line).\")"
      ],
      "metadata": {
        "colab": {
          "base_uri": "https://localhost:8080/"
        },
        "id": "lAx36vucbVZk",
        "outputId": "44e4ba0b-4e5b-4fa8-e0e6-8bb65192dd7c"
      },
      "execution_count": null,
      "outputs": [
        {
          "output_type": "stream",
          "name": "stdout",
          "text": [
            "Enter x1: 29\n",
            "Enter y1: 31\n",
            "Enter x2: 30\n",
            "Enter y2: 32\n",
            "The slope of the line between (29.0, 31.0) and (30.0, 32.0) is 1.00\n"
          ]
        }
      ]
    },
    {
      "cell_type": "markdown",
      "source": [
        "**PRACTICAL-3(C)**"
      ],
      "metadata": {
        "id": "XI7xYOEzS61t"
      }
    },
    {
      "cell_type": "code",
      "source": [
        "#PRACTICAL-3(C)\n",
        "\n",
        "# Function to calculate Simple Interest\n",
        "def calculate_simple_interest(principal, rate, time):\n",
        "    simple_interest = (principal * rate * time) / 100\n",
        "    return simple_interest\n",
        "\n",
        "# Function to calculate Compound Interest\n",
        "def calculate_compound_interest(principal, rate, time):\n",
        "    n = 1\n",
        "    compound_interest = principal * (pow(1 + (rate / (100 * n)), n * time) - 1)\n",
        "    return compound_interest\n",
        "\n",
        "# Input principal amount, rate of interest, and time\n",
        "principal = float(input(\"Enter the principal amount: \"))\n",
        "rate = float(input(\"Enter the annual interest rate (%): \"))\n",
        "time = float(input(\"Enter the time period (in years): \"))\n",
        "\n",
        "# Calculate Simple Interest and Compound Interest\n",
        "simple_interest = calculate_simple_interest(principal, rate, time)\n",
        "compound_interest = calculate_compound_interest(principal, rate, time)\n",
        "\n",
        "# Print the results\n",
        "print(f\"Principal Amount: ₹{principal}\")\n",
        "print(f\"Rate of Interest: {rate}%\")\n",
        "print(f\"Time Period: {time} years\")\n",
        "print(f\"Simple Interest: ₹{simple_interest:.2f}\")\n",
        "print(f\"Compound Interest: ₹{compound_interest:.2f}\")\n"
      ],
      "metadata": {
        "colab": {
          "base_uri": "https://localhost:8080/"
        },
        "id": "RxEptCX8d05c",
        "outputId": "17ad9eb2-17f7-4245-d6e8-e0dcc351776c"
      },
      "execution_count": null,
      "outputs": [
        {
          "output_type": "stream",
          "name": "stdout",
          "text": [
            "Enter the principal amount: 150000\n",
            "Enter the annual interest rate (%): 18\n",
            "Enter the time period (in years): 0.3\n",
            "Principal Amount: ₹150000.0\n",
            "Rate of Interest: 18.0%\n",
            "Time Period: 0.3 years\n",
            "Simple Interest: ₹8100.00\n",
            "Compound Interest: ₹7636.17\n"
          ]
        }
      ]
    },
    {
      "cell_type": "markdown",
      "source": [
        "**PRACTICAL-3(D)**"
      ],
      "metadata": {
        "id": "aOMmjCKWb8SQ"
      }
    },
    {
      "cell_type": "code",
      "source": [
        "# Constants for the value of each coin\n",
        "QUARTER_VALUE = 0.25\n",
        "DIME_VALUE = 0.10\n",
        "NICKEL_VALUE = 0.05\n",
        "PENNY_VALUE = 0.01\n",
        "\n",
        "# Input the number of each coin\n",
        "quarters = int(input(\"Enter the number of quarters: \"))\n",
        "dimes = int(input(\"Enter the number of dimes: \"))\n",
        "nickels = int(input(\"Enter the number of nickels: \"))\n",
        "pennies = int(input(\"Enter the number of pennies: \"))\n",
        "\n",
        "# Calculate the total value of change in dollars\n",
        "total_value = (quarters * QUARTER_VALUE) + (dimes * DIME_VALUE) + (nickels * NICKEL_VALUE) + (pennies * PENNY_VALUE)\n",
        "\n",
        "# Print the total value in dollars\n",
        "print(f\"The total value of change is ${total_value:.3f}\")"
      ],
      "metadata": {
        "colab": {
          "base_uri": "https://localhost:8080/"
        },
        "id": "yN41me4AcAyd",
        "outputId": "2948a149-488e-41d6-d675-b56bd6886715"
      },
      "execution_count": null,
      "outputs": [
        {
          "output_type": "stream",
          "name": "stdout",
          "text": [
            "Enter the number of quarters: 300\n",
            "Enter the number of dimes: 300\n",
            "Enter the number of nickels: 300\n",
            "Enter the number of pennies: 300\n",
            "The total value of change is $123.000\n"
          ]
        }
      ]
    },
    {
      "cell_type": "markdown",
      "source": [
        "**PRACTICAL-3(E)**"
      ],
      "metadata": {
        "id": "KwCxC84OYdJt"
      }
    },
    {
      "cell_type": "code",
      "source": [
        "#PRACTICAL-3(E)\n",
        "\n",
        "# Input three numbers\n",
        "num1 = float(input(\"Enter the first number: \"))\n",
        "num2 = float(input(\"Enter the second number: \"))\n",
        "num3 = float(input(\"Enter the third number: \"))\n",
        "\n",
        "# Use the ternary operator to find the maximum\n",
        "max_num = num1 if (num1 > num2 and num1 > num3) else (num2 if num2 > num3 else num3)\n",
        "\n",
        "# Print the maximum number\n",
        "print(f\"The First number is = {num1}\")\n",
        "print(f\"The Second number is = {num2}\")\n",
        "print(f\"The Thrid number is = {num3}\")\n",
        "print(f\"The maximum number among all the number is = {max_num}\")"
      ],
      "metadata": {
        "colab": {
          "base_uri": "https://localhost:8080/"
        },
        "id": "TPzg-1IZYW6l",
        "outputId": "ebacdbd3-b1b3-4a5d-991d-a3c31b7a8e44"
      },
      "execution_count": null,
      "outputs": [
        {
          "output_type": "stream",
          "name": "stdout",
          "text": [
            "Enter the first number: 1\n",
            "Enter the second number: 2\n",
            "Enter the third number: 3\n",
            "The First number is = 1.0\n",
            "The Second number is = 2.0\n",
            "The Thrid number is = 3.0\n",
            "The maximum number among all the number is = 3.0\n"
          ]
        }
      ]
    },
    {
      "cell_type": "markdown",
      "source": [
        "**PRACTICAL-3(F)**"
      ],
      "metadata": {
        "id": "YIUyuDVtS99M"
      }
    },
    {
      "cell_type": "code",
      "source": [
        "#PRACTICAL-3(F)\n",
        "\n",
        "import math\n",
        "\n",
        "# Input the radius of the sphere\n",
        "radius = float(input(\"Enter the radius of the sphere: \"))\n",
        "\n",
        "# Calculate the area of the sphere\n",
        "area = 4 * math.pi * (radius ** 2)\n",
        "\n",
        "# Calculate the volume of the sphere\n",
        "volume = (4/3) * math.pi * (radius ** 3)\n",
        "\n",
        "# Print the results\n",
        "print(f\"The area of the sphere is {area:.2f} square units\")\n",
        "print(f\"The volume of the sphere is {volume:.2f} cubic units\")"
      ],
      "metadata": {
        "colab": {
          "base_uri": "https://localhost:8080/"
        },
        "id": "IWCfdk87QTcl",
        "outputId": "99581ae9-0f45-4f5d-866f-38a683e230e1"
      },
      "execution_count": null,
      "outputs": [
        {
          "output_type": "stream",
          "name": "stdout",
          "text": [
            "Enter the radius of the sphere: 30\n",
            "The area of the sphere is 11309.73 square units\n",
            "The volume of the sphere is 113097.34 cubic units\n"
          ]
        }
      ]
    },
    {
      "cell_type": "markdown",
      "source": [
        "**PRACTICAL-3(G)**"
      ],
      "metadata": {
        "id": "nOwhaWlhUqKF"
      }
    },
    {
      "cell_type": "code",
      "source": [
        "#PRACTICAL-3(G)\n",
        "\n",
        "import math\n",
        "a=int(input(\"Enter the first value: \"))\n",
        "b=int(input(\"Enter the second value: \"))\n",
        "c=int(input(\"Enter the third value: \"))\n",
        "discriminant=(b**2)-4*a*c\n",
        "print(\"Value of disrciminant is : \",discriminant)\n",
        "Real_roots1=(-b+math.sqrt(discriminant)/(2*a))\n",
        "Real_roots2=(-b-math.sqrt(discriminant)/(2*a))\n",
        "print(\"Real roots of quadratic equation are : \",Real_roots1,Real_roots2)"
      ],
      "metadata": {
        "colab": {
          "base_uri": "https://localhost:8080/"
        },
        "id": "OFdCaIabUiMm",
        "outputId": "f582fdf0-71ce-4f2d-dc6d-1035909e44a1"
      },
      "execution_count": null,
      "outputs": [
        {
          "output_type": "stream",
          "name": "stdout",
          "text": [
            "Enter the first value: 5\n",
            "Enter the second value: 30\n",
            "Enter the third value: 32\n",
            "Value of disrciminant is :  260\n",
            "Real roots of quadratic equation are :  -28.38754845034029 -31.61245154965971\n"
          ]
        }
      ]
    },
    {
      "cell_type": "markdown",
      "source": [
        "**PRACTICAL-3(H)**"
      ],
      "metadata": {
        "id": "jZXZ_jbxp0vE"
      }
    },
    {
      "cell_type": "code",
      "source": [
        "#PRACTICAL-3(H)\n",
        "\n",
        "import math\n",
        "angle=float(input(\"Enter the angle of ladder: \"))\n",
        "height=float(input(\"Enter the height of house: \"))\n",
        "angle_of_ladder=math.sin(angle)\n",
        "hypotenous=height/angle_of_ladder\n",
        "print(\"Required length of ladder is: \",hypotenous)"
      ],
      "metadata": {
        "colab": {
          "base_uri": "https://localhost:8080/"
        },
        "id": "gsFq5YUxphY8",
        "outputId": "4a918550-ed67-4140-ea3f-899e8ab1ebdf"
      },
      "execution_count": null,
      "outputs": [
        {
          "output_type": "stream",
          "name": "stdout",
          "text": [
            "Enter the angle of ladder: 90\n",
            "Enter the height of house: 30\n",
            "Required length of ladder is:  33.55717221491125\n"
          ]
        }
      ]
    },
    {
      "cell_type": "markdown",
      "source": [
        "**PRACTICAL-4(A)**"
      ],
      "metadata": {
        "id": "Hjvlhd28_vnz"
      }
    },
    {
      "cell_type": "code",
      "source": [
        "#PRACTICAL-4(A)\n",
        "\n",
        "def is_leap_year(year):\n",
        "    if (year % 4 == 0 and year % 100 != 0) or (year % 400 == 0):\n",
        "        return True\n",
        "    else:\n",
        "        return False\n",
        "\n",
        "# Input year from the user\n",
        "year = int(input(\"Enter a year: \"))\n",
        "\n",
        "if is_leap_year(year):\n",
        "    print(year, \"is a leap year.\")\n",
        "else:\n",
        "    print(year, \"is not a leap year.\")\n"
      ],
      "metadata": {
        "colab": {
          "base_uri": "https://localhost:8080/"
        },
        "id": "e9gag15A-9Fl",
        "outputId": "c384197f-7d16-4410-d978-6ddca3b23b3f"
      },
      "execution_count": null,
      "outputs": [
        {
          "output_type": "stream",
          "name": "stdout",
          "text": [
            "Enter a year: 2006\n",
            "2006 is not a leap year.\n"
          ]
        }
      ]
    },
    {
      "cell_type": "markdown",
      "source": [
        "**PRACTICAL-4(B)**"
      ],
      "metadata": {
        "id": "6wQXGepq_6QP"
      }
    },
    {
      "cell_type": "code",
      "source": [
        "#PRACTICAL-4(B)\n",
        "\n",
        "def calculate_wages(hours_worked, hourly_rate):\n",
        "    if hours_worked <= 40:\n",
        "        total_wages = hours_worked * hourly_rate\n",
        "    else:\n",
        "        regular_wages = 40 * hourly_rate\n",
        "        overtime_hours = hours_worked - 40\n",
        "        overtime_pay = overtime_hours * (hourly_rate * 1.5)\n",
        "        total_wages = regular_wages + overtime_pay\n",
        "    return total_wages\n",
        "\n",
        "# Input the number of hours worked and hourly rate\n",
        "hours_worked = float(input(\"Enter the number of hours worked: \"))\n",
        "hourly_rate = float(input(\"Enter the hourly rate: \"))\n",
        "\n",
        "total_wages = calculate_wages(hours_worked, hourly_rate)\n",
        "print(\"Total wages for the week: $\", total_wages)\n"
      ],
      "metadata": {
        "colab": {
          "base_uri": "https://localhost:8080/"
        },
        "id": "egI-6dqY_SgH",
        "outputId": "fa07b635-5581-4ebe-c90e-b42615e2eea9"
      },
      "execution_count": null,
      "outputs": [
        {
          "output_type": "stream",
          "name": "stdout",
          "text": [
            "Enter the number of hours worked: 50\n",
            "Enter the hourly rate: 10\n",
            "Total wages for the week: $ 550.0\n"
          ]
        }
      ]
    },
    {
      "cell_type": "markdown",
      "source": [
        "**PRACTICAL-4(C)**"
      ],
      "metadata": {
        "id": "6mD3Q-8SS7X3"
      }
    },
    {
      "cell_type": "code",
      "source": [
        "#PRACTICAL-4(C)\n",
        "\n",
        "kg=int(input(\"enter the weight of the person \"))\n",
        "h=int(input(\"enter the height of the person(in cm) \"))\n",
        "m=h/100\n",
        "bmi=kg/pow(m,2)\n",
        "print(\"BMI is \",round(bmi,0))\n",
        "if(bmi >=19 and bmi <=25):\n",
        "  print(\"the person is healthy\")\n",
        "elif(bmi <19 and bmi >=0):\n",
        "  print(\"the person is underweight\")\n",
        "elif(bmi>25 and bmi<200):\n",
        "  print(\"the person is overweight\")\n",
        "else:print(\"the data which is entered is invalid\")"
      ],
      "metadata": {
        "colab": {
          "base_uri": "https://localhost:8080/"
        },
        "id": "XnjZTa6ASxyf",
        "outputId": "f1fcc0c3-ee5c-4974-e47c-1390d500481a"
      },
      "execution_count": null,
      "outputs": [
        {
          "output_type": "stream",
          "name": "stdout",
          "text": [
            "enter the weight of the person 44\n",
            "enter the height of the person(in cm) 150\n",
            "BMI is  20.0\n",
            "the person is healthy\n"
          ]
        }
      ]
    },
    {
      "cell_type": "markdown",
      "source": [
        "**PRACTICAL-4(D)**"
      ],
      "metadata": {
        "id": "rzPxJ6YrTQ73"
      }
    },
    {
      "cell_type": "code",
      "source": [
        "#PRACTICAL-4(D)\n",
        "\n",
        "# Get the student's marks.\n",
        "marks = int(input(\"Enter your marks: \"))\n",
        "\n",
        "# Assign a grade to the student.\n",
        "grade = \"\"\n",
        "if marks >= 90:\n",
        "  grade = \"A\"\n",
        "elif marks >= 80 and marks < 90:\n",
        "  grade = \"B\"\n",
        "elif marks >= 70 and marks < 80:\n",
        "  grade = \"C\"\n",
        "elif marks >= 60 and marks < 70:\n",
        "  grade = \"D\"\n",
        "elif marks >= 50 and marks < 60:\n",
        "  grade = \"E\"\n",
        "else:\n",
        "  grade = \"F\"\n",
        "\n",
        "# Print the student's grade.\n",
        "print(\"Your grade is:\", grade)"
      ],
      "metadata": {
        "colab": {
          "base_uri": "https://localhost:8080/"
        },
        "id": "VWZXKpvHTL2n",
        "outputId": "d907b8d0-5b6f-4b68-806f-e61886eb9d6e"
      },
      "execution_count": null,
      "outputs": [
        {
          "output_type": "stream",
          "name": "stdout",
          "text": [
            "Enter your marks: 100\n",
            "Your grade is: A\n"
          ]
        }
      ]
    },
    {
      "cell_type": "markdown",
      "source": [
        "**PRACTICAL-5(A)**"
      ],
      "metadata": {
        "id": "lPPT0_RYToqm"
      }
    },
    {
      "cell_type": "code",
      "source": [
        "#PRACTICAL-5(A)\n",
        "\n",
        "# Get the number of numbers to read from the user.\n",
        "n = int(input(\"Enter the number of numbers to read: \"))\n",
        "\n",
        "# Create a list to store the numbers.\n",
        "numbers = []\n",
        "\n",
        "# Read the numbers from the user.\n",
        "for i in range(n):\n",
        "    number = int(input(\"Enter a number: \"))\n",
        "    numbers.append(number)\n",
        "\n",
        "# Calculate the average of the numbers.\n",
        "average = sum(numbers) / n\n",
        "\n",
        "# Print the average.\n",
        "print(\"The average of the numbers is:\", average)"
      ],
      "metadata": {
        "colab": {
          "base_uri": "https://localhost:8080/"
        },
        "id": "vuj6kBmITjm_",
        "outputId": "a2fe96f9-81b3-4007-ea60-a9d22938ba90"
      },
      "execution_count": null,
      "outputs": [
        {
          "output_type": "stream",
          "name": "stdout",
          "text": [
            "Enter the number of numbers to read: 2\n",
            "Enter a number: 30\n",
            "Enter a number: 32\n",
            "The average of the numbers is: 31.0\n"
          ]
        }
      ]
    },
    {
      "cell_type": "markdown",
      "source": [
        "**PRACTICAL-5(B)**"
      ],
      "metadata": {
        "id": "uLCkuilyUIGm"
      }
    },
    {
      "cell_type": "code",
      "source": [
        "#PRACTICAL-5(B)\n",
        "\n",
        "n=5\n",
        "k=n-1\n",
        "for i in range(0,n):\n",
        "  for j in range(0,k):\n",
        "    print(end=\" \")\n",
        "  k = k-1\n",
        "  for q in range(0,i+1):\n",
        "    print(\"*\",end=\" \")\n",
        "  print( )"
      ],
      "metadata": {
        "colab": {
          "base_uri": "https://localhost:8080/"
        },
        "id": "fUsdw6HOUCF_",
        "outputId": "d70b2166-41cf-4971-f484-ef74d95e7c4b"
      },
      "execution_count": null,
      "outputs": [
        {
          "output_type": "stream",
          "name": "stdout",
          "text": [
            "    * \n",
            "   * * \n",
            "  * * * \n",
            " * * * * \n",
            "* * * * * \n"
          ]
        }
      ]
    },
    {
      "cell_type": "markdown",
      "source": [
        "**PRACTICAL-5(C)**"
      ],
      "metadata": {
        "id": "xUy1qP0BU4Nm"
      }
    },
    {
      "cell_type": "code",
      "source": [
        "#PRACTICAL-5(C)\n",
        "\n",
        "for i in range(1, 6):\n",
        "\n",
        "    # Print the numbers from 1 to i.\n",
        "    for j in range(1, i + 1):\n",
        "        print(j, end=\"\")\n",
        "\n",
        "    # Print a newline.\n",
        "    print()"
      ],
      "metadata": {
        "colab": {
          "base_uri": "https://localhost:8080/"
        },
        "id": "hkclD36EU0Ge",
        "outputId": "d866ecf3-69b0-4e94-bd3f-217dd5fd3826"
      },
      "execution_count": null,
      "outputs": [
        {
          "output_type": "stream",
          "name": "stdout",
          "text": [
            "1\n",
            "12\n",
            "123\n",
            "1234\n",
            "12345\n"
          ]
        }
      ]
    },
    {
      "cell_type": "markdown",
      "source": [
        "**PRACTICAL-5(D)**"
      ],
      "metadata": {
        "id": "EYbcPSsQaiwF"
      }
    },
    {
      "cell_type": "code",
      "source": [
        "#PRACTICAL-5(D)\n",
        "\n",
        "def sum_series(n):\n",
        "  \"\"\"Calculates the sum of the series 1/3 + 3/5 + 5/7 + ... + 95/97 + 97/99.\"\"\"\n",
        "  sum = 0\n",
        "  for i in range(1, n+1, 2):\n",
        "    sum += i / (i + 2)\n",
        "  return sum\n",
        "print(sum_series(98))"
      ],
      "metadata": {
        "colab": {
          "base_uri": "https://localhost:8080/"
        },
        "id": "_Qk5T0_SadaV",
        "outputId": "1e0f5ea7-2a39-4872-d79b-27c68d4360af"
      },
      "execution_count": null,
      "outputs": [
        {
          "output_type": "stream",
          "name": "stdout",
          "text": [
            "45.124450303050196\n"
          ]
        }
      ]
    },
    {
      "cell_type": "markdown",
      "source": [
        "**PRACTICAL-5(E)**"
      ],
      "metadata": {
        "id": "rRz3eL4Oabnl"
      }
    },
    {
      "cell_type": "code",
      "source": [
        "#PRACTICAL-5(E)\n",
        "\n",
        "def is_perfect(number):\n",
        "   sum=0;\n",
        "   for divisior in range(1,number):\n",
        "     if (number % divisior == 0):\n",
        "       sum=sum+divisior\n",
        "   return sum == number\n",
        "for number in range(1,10001):\n",
        "    if(is_perfect(number)):\n",
        "      print(number)"
      ],
      "metadata": {
        "colab": {
          "base_uri": "https://localhost:8080/"
        },
        "id": "45J3yCdlaXId",
        "outputId": "072c4678-b71e-409c-8739-36f52a3223a7"
      },
      "execution_count": null,
      "outputs": [
        {
          "output_type": "stream",
          "name": "stdout",
          "text": [
            "6\n",
            "28\n",
            "496\n",
            "8128\n"
          ]
        }
      ]
    },
    {
      "cell_type": "markdown",
      "source": [
        "**PRACTICAL-6(A)**"
      ],
      "metadata": {
        "id": "6XTV1kTSWH0O"
      }
    },
    {
      "cell_type": "code",
      "source": [
        "#PRACTICAL-6(A)\n",
        "\n",
        "list=[10,20,30,15,48,90,60,32,5]\n",
        "list.append(70)\n",
        "print(\"Element added successfully\")\n",
        "print(\"List after adding element: \",list)\n",
        "list.remove(48)\n",
        "print(\"Element removed successfully\")\n",
        "print(\"List after removing element: \",list)\n",
        "print(\"Number of elements in the list are: \",len(list))\n",
        "print(\"Element access using list is: \",list[2])\n",
        "list.sort()\n",
        "print(\"Sorted list is: \",list)\n",
        "list.reverse()\n",
        "print(\"Reversed list is: \",list)"
      ],
      "metadata": {
        "id": "fewGFbMga_-O",
        "colab": {
          "base_uri": "https://localhost:8080/"
        },
        "outputId": "a42f7cc0-6cf4-4d34-fe39-93abb63efd23"
      },
      "execution_count": null,
      "outputs": [
        {
          "output_type": "stream",
          "name": "stdout",
          "text": [
            "Element added successfully\n",
            "List after adding element:  [10, 20, 30, 15, 48, 90, 60, 32, 5, 70]\n",
            "Element removed successfully\n",
            "List after removing element:  [10, 20, 30, 15, 90, 60, 32, 5, 70]\n",
            "Number of elements in the list are:  9\n",
            "Element access using list is:  30\n",
            "Sorted list is:  [5, 10, 15, 20, 30, 32, 60, 70, 90]\n",
            "Reversed list is:  [90, 70, 60, 32, 30, 20, 15, 10, 5]\n"
          ]
        }
      ]
    },
    {
      "cell_type": "markdown",
      "source": [
        "**PRACTICAL-6(B)**"
      ],
      "metadata": {
        "id": "DynK_nmvWFUu"
      }
    },
    {
      "cell_type": "code",
      "source": [
        "#PRACTICAL-6(B)\n",
        "\n",
        "list1=[]\n",
        "n = int(input(\"Enter the Total element = \"))\n",
        "for i in range(0,n):\n",
        "  i = int(input(\"Enter element of your choice =  \"))\n",
        "  list1.append(i)\n",
        "print(list1)\n",
        "count = 0\n",
        "total_sum = 0\n",
        "for i in list1:\n",
        "  if i>0:\n",
        "    count=count+1\n",
        "print(\"Positive number count = \",count)\n",
        "count = 0\n",
        "for i in list1:\n",
        "  if i<0:\n",
        "    count=count+1\n",
        "print(\"Negative number count = \",count)\n",
        "count = 0\n",
        "for i in list1:\n",
        "  if i==0:\n",
        "    count=count+1\n",
        "print(\"Zero number count = \",count)\n",
        "count = 0\n",
        "for i in list1:\n",
        "  if i %2==0:\n",
        "    count=count+1\n",
        "print(\"Even number count = \",count)\n",
        "count = 0\n",
        "for i in list1:\n",
        "  if i %2!=0:\n",
        "    count=count+1\n",
        "print(\"Odd number count = \",count)\n",
        "for i in list1:\n",
        " total_sum += i  # Add the element to the sum\n",
        "average = total_sum / n\n",
        "print(\"Average count of total element = \",average)"
      ],
      "metadata": {
        "colab": {
          "base_uri": "https://localhost:8080/"
        },
        "id": "6jp_IvWCWEXn",
        "outputId": "a66b102d-4547-4c18-c276-7f71f6afe6f1"
      },
      "execution_count": null,
      "outputs": [
        {
          "output_type": "stream",
          "name": "stdout",
          "text": [
            "Enter the Total element = 10\n",
            "Enter element of your choice =  0\n",
            "Enter element of your choice =  1\n",
            "Enter element of your choice =  -2\n",
            "Enter element of your choice =  3\n",
            "Enter element of your choice =  4\n",
            "Enter element of your choice =  -6\n",
            "Enter element of your choice =  7\n",
            "Enter element of your choice =  8\n",
            "Enter element of your choice =  -9\n",
            "Enter element of your choice =  10\n",
            "[0, 1, -2, 3, 4, -6, 7, 8, -9, 10]\n",
            "Positive number count =  6\n",
            "Negative number count =  3\n",
            "Zero number count =  1\n",
            "Even number count =  6\n",
            "Odd number count =  4\n",
            "Average count of total element =  1.6\n"
          ]
        }
      ]
    },
    {
      "cell_type": "markdown",
      "source": [
        "**PRACTICAL-6(C)**"
      ],
      "metadata": {
        "id": "NYwvk71CeHtH"
      }
    },
    {
      "cell_type": "code",
      "source": [
        "#PRACTICAL-6(C)\n",
        "\n",
        "str1=input(\"Enter the element = \")\n",
        "for i in range(0,10):\n",
        "  n=str1.count(str(i))\n",
        "  print(i,\"is occurn\",n,\"time\")"
      ],
      "metadata": {
        "colab": {
          "base_uri": "https://localhost:8080/"
        },
        "id": "GMH2cCbIeKu3",
        "outputId": "0c3ab9e5-900b-4c5a-c691-c760532eda5b"
      },
      "execution_count": null,
      "outputs": [
        {
          "output_type": "stream",
          "name": "stdout",
          "text": [
            "Enter the element = 12AS47A132544\n",
            "0 is occurn 0 time\n",
            "1 is occurn 2 time\n",
            "2 is occurn 2 time\n",
            "3 is occurn 1 time\n",
            "4 is occurn 3 time\n",
            "5 is occurn 1 time\n",
            "6 is occurn 0 time\n",
            "7 is occurn 1 time\n",
            "8 is occurn 0 time\n",
            "9 is occurn 0 time\n"
          ]
        }
      ]
    },
    {
      "cell_type": "markdown",
      "source": [
        "**PRACTICAL-6(D)**"
      ],
      "metadata": {
        "id": "TP_aJ4ijeuUn"
      }
    },
    {
      "cell_type": "code",
      "source": [
        "#PRACTICAL-6(D)\n",
        "\n",
        "num1=[1,1,1,1,2,2,2,3,3,3]\n",
        "num2=[]\n",
        "for i in num1:\n",
        "  if i not in num2:\n",
        "    num2.append(i)\n",
        "print(\"List after eliminating duplicate values in the list is = \", num2)"
      ],
      "metadata": {
        "colab": {
          "base_uri": "https://localhost:8080/"
        },
        "id": "-Uw1wrPVeV4o",
        "outputId": "e9e18ab4-79cc-451f-ed56-78243c5aba69"
      },
      "execution_count": null,
      "outputs": [
        {
          "output_type": "stream",
          "name": "stdout",
          "text": [
            "List after eliminating duplicate values in the list is =  [1, 2, 3]\n"
          ]
        }
      ]
    },
    {
      "cell_type": "markdown",
      "source": [
        "**PRACTICAL-6(E)**"
      ],
      "metadata": {
        "id": "s6uDWFyyl3Eg"
      }
    },
    {
      "cell_type": "code",
      "source": [
        "#PRACTICAL-6(E)\n",
        "\n",
        "temp=[34,40,29,33,42,37,39]\n",
        "for i in temp:\n",
        "  mx=max(temp)\n",
        "  mn=min(temp)\n",
        "  a=temp.index(mx)\n",
        "  b=temp.index(mn)\n",
        "  temp[a],temp[b]=temp[b],temp[a]\n",
        "print(\"Temperatures after swapping is: \",temp)"
      ],
      "metadata": {
        "id": "N3MNmLtapfmg",
        "colab": {
          "base_uri": "https://localhost:8080/"
        },
        "outputId": "3ab9fda5-e935-4e72-e847-a940ec401f97"
      },
      "execution_count": null,
      "outputs": [
        {
          "output_type": "stream",
          "name": "stdout",
          "text": [
            "Temperatures after swapping is:  [34, 40, 42, 33, 29, 37, 39]\n"
          ]
        }
      ]
    },
    {
      "cell_type": "markdown",
      "source": [
        "**PRACTICAL-7(A)**"
      ],
      "metadata": {
        "id": "5c2NDg67tC0_"
      }
    },
    {
      "cell_type": "code",
      "source": [
        "#PRACTICAL-7(A)\n",
        "\n",
        "tup=(\"Khush\",32,12.50,True)\n",
        "print(tup)\n",
        "n_list=list(tup)\n",
        "print(\"Tuple after converting into the list is: \")\n",
        "print(n_list)\n",
        "n_list.remove(12.50)\n",
        "print(\"List after removing 1 element: \")\n",
        "print(n_list)\n",
        "n_tupple=print(tuple(n_list))"
      ],
      "metadata": {
        "id": "x1rfcPnhs_cB",
        "colab": {
          "base_uri": "https://localhost:8080/"
        },
        "outputId": "64f9f5dd-6cbf-49dd-e6da-da97cf12d05c"
      },
      "execution_count": null,
      "outputs": [
        {
          "output_type": "stream",
          "name": "stdout",
          "text": [
            "('Khush', 32, 12.5, True)\n",
            "Tuple after converting into the list is: \n",
            "['Khush', 32, 12.5, True]\n",
            "List after removing 1 element: \n",
            "['Khush', 32, True]\n",
            "('Khush', 32, True)\n"
          ]
        }
      ]
    },
    {
      "cell_type": "markdown",
      "source": [
        "**PRACTICAL-7(B)**"
      ],
      "metadata": {
        "id": "UKyj4ZwQfcHZ"
      }
    },
    {
      "cell_type": "code",
      "source": [
        "#PRACTICAL-7(B)\n",
        "\n",
        "country={\"India\",\"America\",\"Norway\",\"France\",\"Europe\"}\n",
        "continent={\"Asia\",\"North America\",\"Australia\",\"Europe\"}\n",
        "print(\"Country added before operations = \",country)\n",
        "print(\"Continent added before operations = \",continent)\n",
        "subset={\"India\",\"Norway\"}\n",
        "country.remove(\"France\")\n",
        "print(\"Set after removing an element = \",country)\n",
        "continent.add(\"Africa\")\n",
        "print(\"Set after adding an element = \",continent)\n",
        "print(\"Set after performing union operations = \")\n",
        "print(continent.union(country))\n",
        "print(\"Set after performing intersection operations = \")\n",
        "print(continent.intersection(country))\n",
        "print(\"Set after performing difference operations = \")\n",
        "print(continent.difference(country))\n",
        "print(\"Set after performing symmetric difference operation = \")\n",
        "print(continent.symmetric_difference(country))\n",
        "print(\"Set after performing sub-set operation = \")\n",
        "print(subset.issubset(country))"
      ],
      "metadata": {
        "id": "77I9Ovq0eSpV",
        "colab": {
          "base_uri": "https://localhost:8080/"
        },
        "outputId": "68473880-1ccb-405c-db88-957acabb06db"
      },
      "execution_count": null,
      "outputs": [
        {
          "output_type": "stream",
          "name": "stdout",
          "text": [
            "Country added before operations =  {'India', 'Europe', 'America', 'Norway', 'France'}\n",
            "Continent added before operations =  {'North America', 'Europe', 'Australia', 'Asia'}\n",
            "Set after removing an element =  {'India', 'Europe', 'America', 'Norway'}\n",
            "Set after adding an element =  {'North America', 'Africa', 'Australia', 'Asia', 'Europe'}\n",
            "Set after performing union operations = \n",
            "{'India', 'North America', 'Africa', 'Australia', 'Asia', 'Europe', 'America', 'Norway'}\n",
            "Set after performing intersection operations = \n",
            "{'Europe'}\n",
            "Set after performing difference operations = \n",
            "{'North America', 'Asia', 'Africa', 'Australia'}\n",
            "Set after performing symmetric difference operation = \n",
            "{'India', 'North America', 'Africa', 'Australia', 'Asia', 'America', 'Norway'}\n",
            "Set after performing sub-set operation = \n",
            "True\n"
          ]
        }
      ]
    },
    {
      "cell_type": "markdown",
      "source": [
        "**PRACTICAL-7(C)**\n"
      ],
      "metadata": {
        "id": "u9Jbv8sJfhai"
      }
    },
    {
      "cell_type": "code",
      "source": [
        "#PRACTICAL-7(C)\n",
        "\n",
        "dic={\"Name\":\"Khush\",\"Er.No.\":\"226470307032\",\"Department\":\"Computer Engineering\"}\n",
        "print(dic)\n",
        "#Add key-value pair operation\n",
        "dic[\"SPI\"]=\"09.00\"\n",
        "print(\"Dictionary after adding key-value pair: \",dic)\n",
        "#Remove key-value pair operation\n",
        "temp=dic.pop(\"Department\")\n",
        "print(\"The deleted element in dictionary: \",temp)\n",
        "print(\"Dictionary after removing key-value pair: \",dic)\n",
        "for key,values in dic.items():\n",
        "  print(key,\"->\",values)\n",
        "dic2={\"Name\":\"xyz\",\"Er.No.\":\"226470307000\",\"Department\":\"Computer Engineering\"}\n",
        "print(dic2)\n",
        "dic2[\"SPI\"]=\"08.52\"\n",
        "print(\"Dictionary after adding key-value pair: \",dic2)\n",
        "temp2=dic2.pop(\"Department\")\n",
        "print(\"The deleted element in dictionary: \",temp2)\n",
        "print(\"Dictionary after removing key-value pair: \",dic2)\n",
        "print({**dic,**dic2})"
      ],
      "metadata": {
        "colab": {
          "base_uri": "https://localhost:8080/"
        },
        "id": "NshP0ZGbekB5",
        "outputId": "01043e88-4e46-4893-91fc-1fdc74be6681"
      },
      "execution_count": null,
      "outputs": [
        {
          "output_type": "stream",
          "name": "stdout",
          "text": [
            "{'Name': 'Khush', 'Er.No.': '226470307032', 'Department': 'Computer Engineering'}\n",
            "Dictionary after adding key-value pair:  {'Name': 'Khush', 'Er.No.': '226470307032', 'Department': 'Computer Engineering', 'SPI': '09.00'}\n",
            "The deleted element in dictionary:  Computer Engineering\n",
            "Dictionary after removing key-value pair:  {'Name': 'Khush', 'Er.No.': '226470307032', 'SPI': '09.00'}\n",
            "Name -> Khush\n",
            "Er.No. -> 226470307032\n",
            "SPI -> 09.00\n",
            "{'Name': 'xyz', 'Er.No.': '226470307000', 'Department': 'Computer Engineering'}\n",
            "Dictionary after adding key-value pair:  {'Name': 'xyz', 'Er.No.': '226470307000', 'Department': 'Computer Engineering', 'SPI': '08.52'}\n",
            "The deleted element in dictionary:  Computer Engineering\n",
            "Dictionary after removing key-value pair:  {'Name': 'xyz', 'Er.No.': '226470307000', 'SPI': '08.52'}\n",
            "{'Name': 'xyz', 'Er.No.': '226470307000', 'SPI': '08.52'}\n"
          ]
        }
      ]
    },
    {
      "cell_type": "markdown",
      "source": [
        "**PRACTICAL-7(D)**"
      ],
      "metadata": {
        "id": "VtivhiMQfgRO"
      }
    },
    {
      "cell_type": "code",
      "source": [
        "#PRACTICAL-7(D)\n",
        "\n",
        "d1={\"SUNDAY\":40,'MONDAY':41,'TUESDAY':49,'WEDNESDAY':55,'THRUSDAY':44,'FRIDAY':32,'SATURDAY':42}\n",
        "for day,temp in d1.items():\n",
        " if temp>=40 and temp<=50:\n",
        "  print(day)"
      ],
      "metadata": {
        "colab": {
          "base_uri": "https://localhost:8080/"
        },
        "id": "Agrh8xR4fa9_",
        "outputId": "9ddfef3c-c507-41b0-c572-7ebe9eb98a2c"
      },
      "execution_count": null,
      "outputs": [
        {
          "output_type": "stream",
          "name": "stdout",
          "text": [
            "SUNDAY\n",
            "MONDAY\n",
            "TUESDAY\n",
            "THRUSDAY\n",
            "SATURDAY\n"
          ]
        }
      ]
    },
    {
      "cell_type": "markdown",
      "source": [
        "**PRACTICAL-7(E)**"
      ],
      "metadata": {
        "id": "9WAEhgCc69Iw"
      }
    },
    {
      "cell_type": "code",
      "source": [
        "#PRACTICAL-7(E)\n",
        "\n",
        "my_dic={1:\"Banana\",2:\"Apple\",3:\"Cherry\",4:\"Mango\"}\n",
        "key=int(input(\"Enter the key: \"))\n",
        "temp=0\n",
        "if key in my_dic:\n",
        "  temp=my_dic.pop(key)\n",
        "  print(\"The popped key is: \",temp)\n",
        "else:\n",
        "  value=input(\"Enter the value of key: \")\n",
        "  my_dic[key]=value\n",
        "  print(my_dic)"
      ],
      "metadata": {
        "colab": {
          "base_uri": "https://localhost:8080/"
        },
        "id": "0jZj28uGitWO",
        "outputId": "8953860d-1410-4157-bc1b-c0f0b5848277"
      },
      "execution_count": null,
      "outputs": [
        {
          "output_type": "stream",
          "name": "stdout",
          "text": [
            "Enter the key: 8\n",
            "Enter the value of key: Mango\n",
            "{1: 'Banana', 2: 'Apple', 3: 'Cherry', 4: 'Mango', 8: 'Mango'}\n"
          ]
        }
      ]
    },
    {
      "cell_type": "markdown",
      "source": [
        "**PRACTICAL-8(A)**"
      ],
      "metadata": {
        "id": "_2PwFCL_7AGd"
      }
    },
    {
      "cell_type": "code",
      "source": [
        "#PRACTICAL-8(A)\n",
        "\n",
        "import random\n",
        "original_list=[]\n",
        "n=int(input(\"Enter the number of element you want to insert in the list: \"))\n",
        "for i in range(0,n):\n",
        "  i=int(input(\"Enter the elements of list: \"))\n",
        "  original_list.append(i)\n",
        "print(\"Original List :\",original_list)\n",
        "random.shuffle(original_list)\n",
        "print(\"Shuffled List:\",original_list)"
      ],
      "metadata": {
        "colab": {
          "base_uri": "https://localhost:8080/"
        },
        "id": "hvQW8cmqi-BF",
        "outputId": "f783aa4b-4aec-4bca-f8da-e8ee9e586483"
      },
      "execution_count": null,
      "outputs": [
        {
          "output_type": "stream",
          "name": "stdout",
          "text": [
            "Enter the number of element you want to insert in the list: 5\n",
            "Enter the elements of list: 10\n",
            "Enter the elements of list: 20\n",
            "Enter the elements of list: 32\n",
            "Enter the elements of list: 31\n",
            "Enter the elements of list: 5\n",
            "Original List : [10, 20, 32, 31, 5]\n",
            "Shuffled List: [5, 20, 32, 31, 10]\n"
          ]
        }
      ]
    },
    {
      "cell_type": "markdown",
      "source": [
        "**PRACTICAL-8(B**)"
      ],
      "metadata": {
        "id": "0P_035DC7ExG"
      }
    },
    {
      "cell_type": "code",
      "source": [
        "#PRACTICAL-8(B)\n",
        "\n",
        "list1=[]\n",
        "list2=[]\n",
        "n=int(input(\"Enter the number of element :- \"))\n",
        "for i in range(0,n):\n",
        "  i=int(input(\"Enter the element :- \"))\n",
        "  list1.append(i)\n",
        "for item in list1:\n",
        "  if item not in list2:\n",
        "    list2.append(item)\n",
        "print(\"Original List:\", list1)\n",
        "print(\"List with Duplicates Removed:\", list2)"
      ],
      "metadata": {
        "colab": {
          "base_uri": "https://localhost:8080/"
        },
        "id": "NJ0jAY-uixt1",
        "outputId": "7dcc5f6b-349d-4231-b14f-c6d0ef45eb86"
      },
      "execution_count": null,
      "outputs": [
        {
          "output_type": "stream",
          "name": "stdout",
          "text": [
            "Enter the number of element :- 10\n",
            "Enter the element :- 10\n",
            "Enter the element :- 10\n",
            "Enter the element :- 10\n",
            "Enter the element :- 10\n",
            "Enter the element :- 10\n",
            "Enter the element :- 10\n",
            "Enter the element :- 5\n",
            "Enter the element :- 4\n",
            "Enter the element :- 3\n",
            "Enter the element :- 2\n",
            "Original List: [10, 10, 10, 10, 10, 10, 5, 4, 3, 2]\n",
            "List with Duplicates Removed: [10, 5, 4, 3, 2]\n"
          ]
        }
      ]
    },
    {
      "cell_type": "markdown",
      "source": [
        "**PRACTICAL-8(C)**"
      ],
      "metadata": {
        "id": "vbz_sR4W7IIG"
      }
    },
    {
      "cell_type": "code",
      "source": [
        "#PRACTICAL-8(C)\n",
        "\n",
        "def loan():\n",
        "  p=int(input(\"Enter the amount: \"))\n",
        "  r=int(input(\"Enter the rate of intrest: \"))\n",
        "  t=int(input(\"Enter the no of years: \"))\n",
        "\n",
        "  total_int= round(p*r*t)/100\n",
        "  total_amt= round(p+total_int)\n",
        "  emi=round(total_amt/(12*t))\n",
        "\n",
        "  print(\"Intrest: \",total_int)\n",
        "  print(\"Amount: \",total_amt)\n",
        "  print(\"EMI: \",emi)\n",
        "\n",
        "  print(\"\\nPrincipal EMI Intrest Balance\")\n",
        "  balance=total_amt-emi\n",
        "  print(total_amt,\"\\t\",emi,\"\\t\",r,\"\\t\",balance)\n",
        "\n",
        "  for i in range (1,t*12):\n",
        "    total_amt=balance\n",
        "    balance=total_amt-emi\n",
        "    print(total_amt,\"\\t\",emi,\"\\t\",r,\"\\t\",balance)\n",
        "loan()"
      ],
      "metadata": {
        "colab": {
          "base_uri": "https://localhost:8080/"
        },
        "id": "qlqGQrnvpvwY",
        "outputId": "fdc2b41b-3381-4e33-aba8-18f50a883eb3"
      },
      "execution_count": null,
      "outputs": [
        {
          "output_type": "stream",
          "name": "stdout",
          "text": [
            "Enter the amount: 10000\n",
            "Enter the rate of intrest: 5\n",
            "Enter the no of years: 2\n",
            "Intrest:  1000.0\n",
            "Amount:  11000\n",
            "EMI:  458\n",
            "\n",
            "Principal EMI Intrest Balance\n",
            "11000 \t 458 \t 5 \t 10542\n",
            "10542 \t 458 \t 5 \t 10084\n",
            "10084 \t 458 \t 5 \t 9626\n",
            "9626 \t 458 \t 5 \t 9168\n",
            "9168 \t 458 \t 5 \t 8710\n",
            "8710 \t 458 \t 5 \t 8252\n",
            "8252 \t 458 \t 5 \t 7794\n",
            "7794 \t 458 \t 5 \t 7336\n",
            "7336 \t 458 \t 5 \t 6878\n",
            "6878 \t 458 \t 5 \t 6420\n",
            "6420 \t 458 \t 5 \t 5962\n",
            "5962 \t 458 \t 5 \t 5504\n",
            "5504 \t 458 \t 5 \t 5046\n",
            "5046 \t 458 \t 5 \t 4588\n",
            "4588 \t 458 \t 5 \t 4130\n",
            "4130 \t 458 \t 5 \t 3672\n",
            "3672 \t 458 \t 5 \t 3214\n",
            "3214 \t 458 \t 5 \t 2756\n",
            "2756 \t 458 \t 5 \t 2298\n",
            "2298 \t 458 \t 5 \t 1840\n",
            "1840 \t 458 \t 5 \t 1382\n",
            "1382 \t 458 \t 5 \t 924\n",
            "924 \t 458 \t 5 \t 466\n",
            "466 \t 458 \t 5 \t 8\n"
          ]
        }
      ]
    },
    {
      "cell_type": "markdown",
      "source": [
        "**PRACTICAL-9(A)**"
      ],
      "metadata": {
        "id": "apHGlExH7Kcv"
      }
    },
    {
      "cell_type": "code",
      "source": [
        "#PRACTICAL-9(A)\n",
        "\n",
        "def mean(number):\n",
        "  return sum(number)/len(number)\n",
        "def deviation(number):\n",
        "  mean_val=mean(number)\n",
        "  variances=[(x-mean_val)**2 for x in number]\n",
        "  return(sum(variances)/len(number)-1)**0.5\n",
        "\n",
        "number=[1,2,3,4,5]\n",
        "mean_val=mean(number)\n",
        "dev_val=deviation(number)\n",
        "print(\"List:\",number)\n",
        "print(\"Mean is\",mean_val)\n",
        "print(\"Deviation is\",dev_val)"
      ],
      "metadata": {
        "colab": {
          "base_uri": "https://localhost:8080/"
        },
        "id": "3EbwmHfMqTbg",
        "outputId": "a5f3091e-b1b1-402d-e573-cf87ff78802c"
      },
      "execution_count": null,
      "outputs": [
        {
          "output_type": "stream",
          "name": "stdout",
          "text": [
            "List: [1, 2, 3, 4, 5]\n",
            "Mean is 3.0\n",
            "Deviation is 1.0\n"
          ]
        }
      ]
    },
    {
      "cell_type": "markdown",
      "source": [
        "**PRACTICAL-9(B)**"
      ],
      "metadata": {
        "id": "dwi_MLFT7MNn"
      }
    },
    {
      "cell_type": "code",
      "source": [
        "#PRACTICAL-9(B)\n",
        "\n",
        "from datetime import date,timedelta\n",
        "def altsunday(year):\n",
        "  d=date(year,1,1)\n",
        "  d+= timedelta(days=6-d.weekday())\n",
        "  while d.year==year:\n",
        "    yield d\n",
        "    d+=timedelta(days=7)\n",
        "m = int(input(\"Enter the year = \"))\n",
        "for d in altsunday(m):\n",
        "  print(d)"
      ],
      "metadata": {
        "colab": {
          "base_uri": "https://localhost:8080/"
        },
        "id": "3IzVbJU8qeio",
        "outputId": "f4471f42-8af4-4992-ea8f-d341addc607c"
      },
      "execution_count": null,
      "outputs": [
        {
          "output_type": "stream",
          "name": "stdout",
          "text": [
            "Enter the year = 2023\n",
            "2023-01-01\n",
            "2023-01-08\n",
            "2023-01-15\n",
            "2023-01-22\n",
            "2023-01-29\n",
            "2023-02-05\n",
            "2023-02-12\n",
            "2023-02-19\n",
            "2023-02-26\n",
            "2023-03-05\n",
            "2023-03-12\n",
            "2023-03-19\n",
            "2023-03-26\n",
            "2023-04-02\n",
            "2023-04-09\n",
            "2023-04-16\n",
            "2023-04-23\n",
            "2023-04-30\n",
            "2023-05-07\n",
            "2023-05-14\n",
            "2023-05-21\n",
            "2023-05-28\n",
            "2023-06-04\n",
            "2023-06-11\n",
            "2023-06-18\n",
            "2023-06-25\n",
            "2023-07-02\n",
            "2023-07-09\n",
            "2023-07-16\n",
            "2023-07-23\n",
            "2023-07-30\n",
            "2023-08-06\n",
            "2023-08-13\n",
            "2023-08-20\n",
            "2023-08-27\n",
            "2023-09-03\n",
            "2023-09-10\n",
            "2023-09-17\n",
            "2023-09-24\n",
            "2023-10-01\n",
            "2023-10-08\n",
            "2023-10-15\n",
            "2023-10-22\n",
            "2023-10-29\n",
            "2023-11-05\n",
            "2023-11-12\n",
            "2023-11-19\n",
            "2023-11-26\n",
            "2023-12-03\n",
            "2023-12-10\n",
            "2023-12-17\n",
            "2023-12-24\n",
            "2023-12-31\n"
          ]
        }
      ]
    },
    {
      "cell_type": "markdown",
      "source": [
        "**PRACTICAL-9(C)**"
      ],
      "metadata": {
        "id": "pBU24LiI61YH"
      }
    },
    {
      "cell_type": "code",
      "source": [
        "#PRACTICAL-9(C)\n",
        "\n",
        "import numpy as np\n",
        "import matplotlib.pyplot as plt\n",
        "\n",
        "x = np.linspace(-5, 6, 100)\n",
        "\n",
        "def relu(x):\n",
        "    return np.maximum(0, x)\n",
        "y = relu(x)\n",
        "\n",
        "plt.figure(figsize=(8,6))\n",
        "plt.plot(x, y, label='ReLU Function', color='olive')\n",
        "plt.axhline(0, color='gray', linestyle='--', linewidth=0.5)\n",
        "plt.axvline(0, color='gray', linestyle='--', linewidth=0.5)\n",
        "plt.xlabel('x')\n",
        "plt.ylabel('ReLU(x)')\n",
        "plt.title('ReLU Function')\n",
        "plt.grid(True, linestyle='--', alpha=0.7)\n",
        "plt.legend()\n",
        "plt.show()\n"
      ],
      "metadata": {
        "colab": {
          "base_uri": "https://localhost:8080/",
          "height": 564
        },
        "id": "F4Hn7mxtylVM",
        "outputId": "bfd5e630-ed44-4fd8-c8a6-ef5125086f0d"
      },
      "execution_count": null,
      "outputs": [
        {
          "output_type": "display_data",
          "data": {
            "text/plain": [
              "<Figure size 800x600 with 1 Axes>"
            ],
            "image/png": "[encoded data removed]"
          },
          "metadata": {}
        }
      ]
    },
    {
      "cell_type": "markdown",
      "source": [
        "**PRACTICAL-9(D)**"
      ],
      "metadata": {
        "id": "noaAlEzn6zRe"
      }
    },
    {
      "cell_type": "code",
      "source": [
        "#PRACTICAL-9(D)\n",
        "\n",
        "import random\n",
        "import matplotlib.pyplot as plt\n",
        "\n",
        "# Generate random marks for 100 students (between 0 and 10)\n",
        "num_students = 100\n",
        "student_marks = [random.uniform(0, 10) for _ in range(num_students)]\n",
        "\n",
        "# Create a histogram\n",
        "plt.hist(student_marks, bins=11, range=(0, 10), edgecolor='black', alpha=0.7)\n",
        "plt.title('Test Results Histogram')\n",
        "plt.xlabel('Marks')\n",
        "plt.ylabel('Number of Students')\n",
        "plt.xticks(range(11))\n",
        "plt.grid(axis='y', alpha=0.75)\n",
        "\n",
        "# Display the histogram\n",
        "plt.show()\n"
      ],
      "metadata": {
        "colab": {
          "base_uri": "https://localhost:8080/",
          "height": 472
        },
        "id": "8CXCrWgK33fr",
        "outputId": "d7b52d6d-56e2-40fd-9f64-6946316ef8f7"
      },
      "execution_count": null,
      "outputs": [
        {
          "output_type": "display_data",
          "data": {
            "text/plain": [
              "<Figure size 640x480 with 1 Axes>"
            ],
            "image/png": "[encoded data removed]"
          },
          "metadata": {}
        }
      ]
    },
    {
      "cell_type": "markdown",
      "source": [
        "**PRACTICAL-9(E)**"
      ],
      "metadata": {
        "id": "CewvQPzW6vkH"
      }
    },
    {
      "cell_type": "code",
      "source": [
        "#PRACTICAL-9(E)\n",
        "\n",
        "#def calc():\n",
        "def add(n1,n2):\n",
        "  return n1+n2\n",
        "def subtract(n1,n2):\n",
        "  return n1-n2\n",
        "def multiply(n1,n2):\n",
        "  return n1*n2\n",
        "def divide(n1,n2):\n",
        "  return n1/n2\n",
        "def modulo(n1,n2):\n",
        "  return n1%n2\n",
        "##import calc as c\n",
        "n1=int(input(\"Enter the first number: \"))\n",
        "n2=int(input(\"Enter the second number: \"))\n",
        "print(\"Addition: \",add(n1,n2))\n",
        "print(\"Subtration: \",subtract(n1,n2))\n",
        "print(\"Multiplication: \",multiply(n1,n2))\n",
        "print(\"Division: \",divide(n1,n2))\n",
        "print(\"Modulo: \",modulo(n1,n2))"
      ],
      "metadata": {
        "colab": {
          "base_uri": "https://localhost:8080/"
        },
        "id": "wcdQqXOmFnuk",
        "outputId": "6d9b00d0-e9d1-4918-c9e7-8af0f329dd99"
      },
      "execution_count": null,
      "outputs": [
        {
          "output_type": "stream",
          "name": "stdout",
          "text": [
            "Enter the first number: 5\n",
            "Enter the second number: 2\n",
            "Addition:  7\n",
            "Subtration:  3\n",
            "Multiplication:  10\n",
            "Division:  2.5\n",
            "Modulo:  1\n"
          ]
        }
      ]
    },
    {
      "cell_type": "markdown",
      "source": [
        "**PRACTICAL-10(A)**"
      ],
      "metadata": {
        "id": "JEJPlqHH5vcn"
      }
    },
    {
      "cell_type": "code",
      "source": [
        "#PRACTICAL-10(A)\n",
        "\n",
        "mystr=str(input(\"Enter the String :\"))\n",
        "revstr=reversed(mystr)\n",
        "if list(mystr)==list(revstr):\n",
        "  print(\"String is Palindrome\")\n",
        "else:\n",
        "  print(\"String in not Palindrome\")"
      ],
      "metadata": {
        "colab": {
          "base_uri": "https://localhost:8080/"
        },
        "id": "rV3MtKWF5jJ_",
        "outputId": "f24be055-e460-4280-9647-53c550c54b21"
      },
      "execution_count": null,
      "outputs": [
        {
          "output_type": "stream",
          "name": "stdout",
          "text": [
            "Enter the String :racecar\n",
            "String is Palindrome\n"
          ]
        }
      ]
    },
    {
      "cell_type": "markdown",
      "source": [
        "**PRACTICAL-10(B)**\n"
      ],
      "metadata": {
        "id": "kHK88VKX77de"
      }
    },
    {
      "cell_type": "code",
      "source": [
        "#PRACTICAL-10(B)\n",
        "\n",
        "def vc_count(mystr):\n",
        "  v=0\n",
        "  c=0\n",
        "  for i in mystr:\n",
        "    if(i=='A' or i=='E' or i=='I' or i=='O' or i=='U' or i=='a' or i=='e' or i=='i' or i=='o' or i=='u'):\n",
        "      v=v+1\n",
        "    else:\n",
        "      c=c+1\n",
        "  return(v,c)\n",
        "\n",
        "mystr=str(input(\"Enter the string :\"))\n",
        "print(vc_count(mystr))"
      ],
      "metadata": {
        "colab": {
          "base_uri": "https://localhost:8080/"
        },
        "id": "rYxhFMQL74af",
        "outputId": "9df228fe-b8c2-4e54-b6cd-5227e064c76f"
      },
      "execution_count": null,
      "outputs": [
        {
          "output_type": "stream",
          "name": "stdout",
          "text": [
            "Enter the string :khushdiyora\n",
            "(4, 7)\n"
          ]
        }
      ]
    },
    {
      "cell_type": "markdown",
      "source": [
        "**PRACTICAL-10(C)**"
      ],
      "metadata": {
        "id": "Eu0Xk7j2BwoF"
      }
    },
    {
      "cell_type": "code",
      "source": [
        "#PRACTICAL-10(C)\n",
        "\n",
        "import datetime\n",
        "date=input(\"Enter the date in DD/MM/YYYY Format : \")\n",
        "datetime.datetime.strptime(date,\"%d/%m/%Y\").strftime(\"%m-%d-%Y\")"
      ],
      "metadata": {
        "colab": {
          "base_uri": "https://localhost:8080/",
          "height": 53
        },
        "id": "ghNcTidlBvf9",
        "outputId": "8b0072fa-1da6-4e55-8c47-230dbd4e5dd9"
      },
      "execution_count": null,
      "outputs": [
        {
          "name": "stdout",
          "output_type": "stream",
          "text": [
            "Enter the date in DD/MM/YYYY Format : 31/10/2006\n"
          ]
        },
        {
          "output_type": "execute_result",
          "data": {
            "text/plain": [
              "'10-31-2006'"
            ],
            "application/vnd.google.colaboratory.intrinsic+json": {
              "type": "string"
            }
          },
          "metadata": {},
          "execution_count": 30
        }
      ]
    },
    {
      "cell_type": "markdown",
      "source": [
        "**PRACTICAL-10(D)**"
      ],
      "metadata": {
        "id": "jESQRHJP3HMd"
      }
    },
    {
      "cell_type": "code",
      "source": [
        "#PRACTICAL-10(D)\n",
        "\n",
        "def are_anagrams(w1,w2):\n",
        "\n",
        "    w1 = w1.replace(\" \", \"\").lower()\n",
        "    w2 = w2.replace(\" \", \"\").lower()\n",
        "    return sorted(w1) == sorted(w2)\n",
        "\n",
        "w1 = input(\"Enter the first word: \")\n",
        "w2 = input(\"Enter the second word: \")\n",
        "\n",
        "if are_anagrams(w1, w2):\n",
        "    print(f\"{w1} and {w2} are anagrams.\")\n",
        "else:\n",
        "    print(f\"{w1} and {w2} are not anagrams.\")"
      ],
      "metadata": {
        "colab": {
          "base_uri": "https://localhost:8080/"
        },
        "id": "kKamIFdy3Gh3",
        "outputId": "54abb97d-98c1-4c57-f901-19704d3ccfc8"
      },
      "execution_count": null,
      "outputs": [
        {
          "output_type": "stream",
          "name": "stdout",
          "text": [
            "Enter the first word: Heart\n",
            "Enter the second word: Earth\n",
            "Heart and Earth are anagrams.\n"
          ]
        }
      ]
    },
    {
      "cell_type": "markdown",
      "source": [
        "**PRACTICAL-10(E)**"
      ],
      "metadata": {
        "id": "z4M6Nh6d7Hzj"
      }
    },
    {
      "cell_type": "code",
      "source": [
        "#PRACTICAL-10(E)\n",
        "\n",
        "def RGB():\n",
        "  code=input(\"Enter the RGB colour code: \")\n",
        "  red=int(code[0:2],16)\n",
        "  green=int(code[2:4],16)\n",
        "  blue=int(code[4:6],16)\n",
        "  print(f\"Red: {red}\")\n",
        "  print(f\"Green: {green}\")\n",
        "  print(f\"Blue: {blue}\")\n",
        "RGB()"
      ],
      "metadata": {
        "colab": {
          "base_uri": "https://localhost:8080/"
        },
        "id": "pcereBEO5xhL",
        "outputId": "d84696d5-ee14-4b66-a1b9-27c9fbe1673a"
      },
      "execution_count": null,
      "outputs": [
        {
          "output_type": "stream",
          "name": "stdout",
          "text": [
            "Enter the RGB colour code: FF6574\n",
            "Red: 255\n",
            "Green: 101\n",
            "Blue: 116\n"
          ]
        }
      ]
    },
    {
      "cell_type": "markdown",
      "source": [
        "**PRACTICAL-10(F)**"
      ],
      "metadata": {
        "id": "iST7r2eE-LGq"
      }
    },
    {
      "cell_type": "code",
      "source": [
        "#PRACTICAL-10(F)\n",
        "\n",
        "def name_value(name):\n",
        "    return sum(ord(char) - 96 for char in name.lower())\n",
        "\n",
        "if __name__ == \"__main__\":\n",
        "    name = input(\"Enter name : \")\n",
        "    print(\"Value of name : \", name_value(name))"
      ],
      "metadata": {
        "colab": {
          "base_uri": "https://localhost:8080/"
        },
        "id": "XNXwBr0W-CFb",
        "outputId": "040a7d18-522f-4bd8-c185-db55693faf34"
      },
      "execution_count": null,
      "outputs": [
        {
          "output_type": "stream",
          "name": "stdout",
          "text": [
            "Enter name : Khush\n",
            "Value of name :  67\n"
          ]
        }
      ]
    },
    {
      "cell_type": "markdown",
      "source": [
        "**#PRACTICAL-11(A)**"
      ],
      "metadata": {
        "id": "fSj8kXTNDlFg"
      }
    },
    {
      "cell_type": "code",
      "source": [
        "#PRACTICAL-11(A)\n",
        "\n",
        "%%writefile \"P11.txt\"\n",
        "Hello\n",
        "this is practical 11-A"
      ],
      "metadata": {
        "colab": {
          "base_uri": "https://localhost:8080/"
        },
        "id": "X5lVYZMQB6zH",
        "outputId": "9bb4dbae-5000-4363-b533-a5e9ecd33594"
      },
      "execution_count": null,
      "outputs": [
        {
          "output_type": "stream",
          "name": "stdout",
          "text": [
            "Overwriting P11.txt\n"
          ]
        }
      ]
    },
    {
      "cell_type": "code",
      "source": [
        "#PRACTICAL-11(A)\n",
        "\n",
        "f=open(\"P11.txt\",\"r\")\n",
        "print(f.read())\n",
        "f.close()"
      ],
      "metadata": {
        "colab": {
          "base_uri": "https://localhost:8080/"
        },
        "id": "A3IQMS51DRrR",
        "outputId": "79bc5d75-8559-4f36-8b7a-0bc5748a1eea"
      },
      "execution_count": null,
      "outputs": [
        {
          "output_type": "stream",
          "name": "stdout",
          "text": [
            "Hello\n",
            "this is practical 11-A\n",
            "\n"
          ]
        }
      ]
    },
    {
      "cell_type": "code",
      "source": [
        "#PRACTICAL-11(A)\n",
        "\n",
        "f=open(\"P11.txt\")\n",
        "b=f.readlines()\n",
        "for i in b:\n",
        "  print(i)"
      ],
      "metadata": {
        "colab": {
          "base_uri": "https://localhost:8080/"
        },
        "id": "F1fNVG1Gsq9p",
        "outputId": "ab70f795-9872-47d9-8232-90c5ffedde49"
      },
      "execution_count": null,
      "outputs": [
        {
          "output_type": "stream",
          "name": "stdout",
          "text": [
            "Hello\n",
            "\n",
            "this is practical 11-A\n",
            "\n"
          ]
        }
      ]
    },
    {
      "cell_type": "code",
      "source": [
        "#PRACTICAL-11(A)\n",
        "\n",
        "f=open(\"P11.txt\",\"a\")\n",
        "f.write(\"Hello World\")\n",
        "f.close()"
      ],
      "metadata": {
        "id": "9f52BsG6tNy6"
      },
      "execution_count": null,
      "outputs": []
    },
    {
      "cell_type": "code",
      "source": [
        "#PRACTICAL-11(A)\n",
        "\n",
        "f=open(\"P11.txt\")\n",
        "print(f.read())\n",
        "f.close()"
      ],
      "metadata": {
        "colab": {
          "base_uri": "https://localhost:8080/"
        },
        "id": "E_N66aPOtmZb",
        "outputId": "ba550564-c90e-4246-e8b0-9cade6a80fad"
      },
      "execution_count": null,
      "outputs": [
        {
          "output_type": "stream",
          "name": "stdout",
          "text": [
            "Hello\n",
            "this is practical 11-A\n",
            "Hello World\n"
          ]
        }
      ]
    },
    {
      "cell_type": "code",
      "source": [
        "#PRACTICAL-11(A)\n",
        "\n",
        "l=[\"Hi\",\"Hello\",\"I\",\"Am\",\"Parin\"]\n",
        "f=open(\"P11.txt\",\"a\")\n",
        "for i in l:\n",
        "  print(f.write(i))\n",
        "f.close()"
      ],
      "metadata": {
        "colab": {
          "base_uri": "https://localhost:8080/"
        },
        "id": "hWd4N8zsuuLD",
        "outputId": "3e7077ba-3b94-4ec8-9673-b5604c7b6dfe"
      },
      "execution_count": null,
      "outputs": [
        {
          "output_type": "stream",
          "name": "stdout",
          "text": [
            "2\n",
            "5\n",
            "1\n",
            "2\n",
            "5\n"
          ]
        }
      ]
    },
    {
      "cell_type": "code",
      "source": [
        "#PRACTICAL-11(A)\n",
        "\n",
        "f=open(\"P11.txt\")\n",
        "print(f.read())\n",
        "f.close()"
      ],
      "metadata": {
        "colab": {
          "base_uri": "https://localhost:8080/"
        },
        "id": "SxfGnvL2vXWy",
        "outputId": "a1fba7fe-9880-4eda-c50a-2ce9c7165728"
      },
      "execution_count": null,
      "outputs": [
        {
          "output_type": "stream",
          "name": "stdout",
          "text": [
            "Hello\n",
            "this is practical 11-A\n",
            "Hello WorldHiHelloIAmParin\n"
          ]
        }
      ]
    },
    {
      "cell_type": "code",
      "source": [
        "#PRACTICAL-11(A)\n",
        "\n",
        "f=open(\"P11.txt\")\n",
        "c=f.readlines()\n",
        "a=[]\n",
        "b=[]\n",
        "for i in c:\n",
        " b=i.split()\n",
        " a.extend(b)\n",
        "print(\"no of lines\",len(c))\n",
        "print(\"no of words\",len(a))"
      ],
      "metadata": {
        "colab": {
          "base_uri": "https://localhost:8080/"
        },
        "id": "zw5ChMUJ2HJs",
        "outputId": "9f81c1f8-4aa0-4052-df46-b04007b7fa4d"
      },
      "execution_count": null,
      "outputs": [
        {
          "output_type": "stream",
          "name": "stdout",
          "text": [
            "no of lines 3\n",
            "no of words 7\n"
          ]
        }
      ]
    },
    {
      "cell_type": "markdown",
      "source": [
        "**PRACTICAL-11(B)**"
      ],
      "metadata": {
        "id": "Tb53Fh6q6Uwn"
      }
    },
    {
      "cell_type": "code",
      "source": [
        "#PRACTICAL-11(B)\n",
        "\n",
        "files=input(\"Enter the file name :\")\n",
        "f=open(files,\"r\")\n",
        "a=f.read()\n",
        "from string import ascii_lowercase as alc\n",
        "for i in alc:\n",
        "  x=a.count(str(i))\n",
        "  print(i,\"is featured for \",x,\"number of times\")\n",
        "f.close()"
      ],
      "metadata": {
        "colab": {
          "base_uri": "https://localhost:8080/"
        },
        "id": "y6iho8NBy6Hz",
        "outputId": "bc76b2d6-ac43-4a92-afcc-35d057e4296d"
      },
      "execution_count": null,
      "outputs": [
        {
          "output_type": "stream",
          "name": "stdout",
          "text": [
            "Enter the file name :P11.txt\n",
            "a is featured for  3 number of times\n",
            "b is featured for  0 number of times\n",
            "c is featured for  2 number of times\n",
            "d is featured for  1 number of times\n",
            "e is featured for  3 number of times\n",
            "f is featured for  0 number of times\n",
            "g is featured for  0 number of times\n",
            "h is featured for  1 number of times\n",
            "i is featured for  5 number of times\n",
            "j is featured for  0 number of times\n",
            "k is featured for  0 number of times\n",
            "l is featured for  8 number of times\n",
            "m is featured for  1 number of times\n",
            "n is featured for  1 number of times\n",
            "o is featured for  4 number of times\n",
            "p is featured for  1 number of times\n",
            "q is featured for  0 number of times\n",
            "r is featured for  3 number of times\n",
            "s is featured for  2 number of times\n",
            "t is featured for  2 number of times\n",
            "u is featured for  0 number of times\n",
            "v is featured for  0 number of times\n",
            "w is featured for  0 number of times\n",
            "x is featured for  0 number of times\n",
            "y is featured for  0 number of times\n",
            "z is featured for  0 number of times\n"
          ]
        }
      ]
    },
    {
      "cell_type": "markdown",
      "source": [
        "**PRACTICAL-11(C)**"
      ],
      "metadata": {
        "id": "8_Q2vire6Ouk"
      }
    },
    {
      "cell_type": "code",
      "source": [
        "#PRACTICAL-11(C)\n",
        "\n",
        "%%writefile \"P11C.txt\"\n",
        "hello\n",
        "computer department\n",
        "Today date is 16-12-2023"
      ],
      "metadata": {
        "colab": {
          "base_uri": "https://localhost:8080/"
        },
        "id": "CM3vQgSO4aot",
        "outputId": "e2bb2ec2-da64-4a1c-fb73-b2529e18f89b"
      },
      "execution_count": null,
      "outputs": [
        {
          "output_type": "stream",
          "name": "stdout",
          "text": [
            "Overwriting P11C.txt\n"
          ]
        }
      ]
    },
    {
      "cell_type": "code",
      "source": [
        "#PRACTICAL-11(C)\n",
        "\n",
        "files=input(\"Enter the file name :\")\n",
        "f=open(files,\"r\")\n",
        "a=f.read()\n",
        "for i in range(10):\n",
        " x=a.count(str(i))\n",
        " print(i,\"is featured for\",x,\"number of times in a string\")"
      ],
      "metadata": {
        "colab": {
          "base_uri": "https://localhost:8080/"
        },
        "id": "8PIpqZEz4kcD",
        "outputId": "c8e5b809-1540-49e6-ec4c-02a226e9a656"
      },
      "execution_count": null,
      "outputs": [
        {
          "output_type": "stream",
          "name": "stdout",
          "text": [
            "Enter the file name :P11C.txt\n",
            "0 is featured for 1 number of times in a string\n",
            "1 is featured for 2 number of times in a string\n",
            "2 is featured for 3 number of times in a string\n",
            "3 is featured for 1 number of times in a string\n",
            "4 is featured for 0 number of times in a string\n",
            "5 is featured for 0 number of times in a string\n",
            "6 is featured for 1 number of times in a string\n",
            "7 is featured for 0 number of times in a string\n",
            "8 is featured for 0 number of times in a string\n",
            "9 is featured for 0 number of times in a string\n"
          ]
        }
      ]
    },
    {
      "cell_type": "markdown",
      "source": [
        "**PRACTICAL-11(D)**"
      ],
      "metadata": {
        "id": "ho8x9gTF6aXs"
      }
    },
    {
      "cell_type": "code",
      "source": [
        "#PRACTICAL-11(D)\n",
        "\n",
        "file = open('P11C.txt', 'r')\n",
        "word_count = 0\n",
        "word_length = 0\n",
        "sentence_count = 0\n",
        "sentence_length = 0\n",
        "for line in file:\n",
        "  words = line.split()\n",
        "for word in words:\n",
        "  word_count += 1\n",
        "word_length += len(word)\n",
        "sentences = line.split('.')\n",
        "for sentence in sentences:\n",
        "  sentence_count += 1\n",
        "sentence_length += len(sentence)\n",
        "avg_word_length = word_length / word_count\n",
        "avg_sentence_length = sentence_length / sentence_count\n",
        "print(\"Average Word Length:\", avg_word_length)\n",
        "print(\"Average Sentence Length:\", avg_sentence_length)"
      ],
      "metadata": {
        "colab": {
          "base_uri": "https://localhost:8080/"
        },
        "id": "jTHC3k4e6L40",
        "outputId": "4a346aa8-9a13-41d0-da5f-4fa807ea9c7a"
      },
      "execution_count": null,
      "outputs": [
        {
          "output_type": "stream",
          "name": "stdout",
          "text": [
            "Average Word Length: 2.5\n",
            "Average Sentence Length: 25.0\n"
          ]
        }
      ]
    },
    {
      "cell_type": "markdown",
      "source": [
        "**PRACTICAL-11(E)**"
      ],
      "metadata": {
        "id": "Qq1hxQszEHUj"
      }
    },
    {
      "cell_type": "code",
      "source": [
        "#PRACTICAL-11(E)\n",
        "\n",
        "%%writefile \"P11E.txt\"\n",
        "hello\n",
        "computer department\n",
        "Today date is 16-12-2023"
      ],
      "metadata": {
        "colab": {
          "base_uri": "https://localhost:8080/"
        },
        "id": "dxfrV5fu97zk",
        "outputId": "581c2873-5ac6-4db6-ab85-198b7ae2b6dc"
      },
      "execution_count": null,
      "outputs": [
        {
          "output_type": "stream",
          "name": "stdout",
          "text": [
            "Writing P11E.txt\n"
          ]
        }
      ]
    },
    {
      "cell_type": "code",
      "source": [
        "#PRACTICAL-11(E)\n",
        "\n",
        "%%writefile \"P11E1.txt\"\n",
        "hello\n",
        "computer department\n",
        "Today date is 16-12-2023"
      ],
      "metadata": {
        "colab": {
          "base_uri": "https://localhost:8080/"
        },
        "id": "MAul2d1p991M",
        "outputId": "a85c06da-75bb-41e1-e138-2a419dad4850"
      },
      "execution_count": null,
      "outputs": [
        {
          "output_type": "stream",
          "name": "stdout",
          "text": [
            "Writing P11E1.txt\n"
          ]
        }
      ]
    },
    {
      "cell_type": "code",
      "source": [
        "#PRACTICAL-11(E)\n",
        "\n",
        "file1 = open(\"P11E.txt\", \"r\")\n",
        "file2 = open(\"P11E1.txt\", \"r\")\n",
        "string1 = file1.read()\n",
        "string2 = file2.read()\n",
        "string1 = string1.replace(\" \", \"\")\n",
        "string2 = string2.replace(\" \", \"\")\n",
        "interleaved_string = \"\"\n",
        "for i in range(len(string1)):\n",
        "  interleaved_string += string1[i] + string2[i]\n",
        "print(interleaved_string)"
      ],
      "metadata": {
        "colab": {
          "base_uri": "https://localhost:8080/"
        },
        "id": "fp0YiiXM8z3d",
        "outputId": "c4d8c242-5330-4ad9-cd6e-9ce24829342d"
      },
      "execution_count": null,
      "outputs": [
        {
          "output_type": "stream",
          "name": "stdout",
          "text": [
            "hheelllloo\n",
            "\n",
            "ccoommppuutteerrddeeppaarrttmmeenntt\n",
            "\n",
            "TTooddaayyddaatteeiiss1166--1122--22002233\n",
            "\n",
            "\n"
          ]
        }
      ]
    },
    {
      "cell_type": "markdown",
      "source": [
        "**MICROPROJECT**"
      ],
      "metadata": {
        "id": "EEYNf30GDyYa"
      }
    },
    {
      "cell_type": "code",
      "source": [
        "def convert_unit(value, from_unit, to_unit):\n",
        "    # Conversion factors\n",
        "    conversion_factors = {\n",
        "        'meter': 1,\n",
        "        'kilometer': 1000,\n",
        "        'centimeter': 0.01,\n",
        "        'millimeter': 0.001,\n",
        "        'inch': 0.0254,\n",
        "        'foot': 0.3048,\n",
        "        'yard': 0.9144,\n",
        "        'mile': 1609.34,\n",
        "        'gram': 1,\n",
        "        'kilogram': 1000,\n",
        "        'milligram': 0.001,\n",
        "        'ounce': 28.3495,\n",
        "        'pound': 453.592,\n",
        "        'celsius': lambda x: x,  # Celsius to Celsius conversion\n",
        "        'fahrenheit': lambda x: (x - 32) * 5/9,  # Fahrenheit to Celsius\n",
        "        'kelvin': lambda x: x - 273.15  # Kelvin to Celsius\n",
        "    }\n",
        "\n",
        "    try:\n",
        "        # Convert to base unit\n",
        "        base_value = value / conversion_factors[from_unit]\n",
        "\n",
        "        # Convert to target unit\n",
        "        result = base_value * conversion_factors[to_unit]\n",
        "\n",
        "        return result\n",
        "    except KeyError:\n",
        "        return \"Invalid units. Supported units are meter, kilometer, centimeter, millimeter, inch, foot, yard, mile, gram, kilogram, milligram, ounce, pound, celsius, fahrenheit, kelvin.\"\n",
        "\n",
        "def main():\n",
        "    print(\"Dynamic Unit Conversion Calculator\")\n",
        "\n",
        "    while True:\n",
        "        try:\n",
        "            value = float(input(\"Enter value to convert: \"))\n",
        "            from_unit = input(\"Enter source unit: \").lower()\n",
        "            to_unit = input(\"Enter target unit: \").lower()\n",
        "\n",
        "            result = convert_unit(value, from_unit, to_unit)\n",
        "            print(f\"{value} {from_unit} is equal to {result} {to_unit}\")\n",
        "\n",
        "        except ValueError:\n",
        "            print(\"Invalid input. Please enter a valid numeric value.\")\n",
        "        except Exception as e:\n",
        "            print(f\"Error: {e}\")\n",
        "\n",
        "        continue_conversion = input(\"Do you want to perform another conversion? (yes/no): \").lower()\n",
        "        if continue_conversion != 'yes':\n",
        "            print(\"Exiting the calculator. Goodbye!\")\n",
        "            break\n",
        "\n",
        "if __name__ == \"__main__\":\n",
        "    main()"
      ],
      "metadata": {
        "colab": {
          "base_uri": "https://localhost:8080/"
        },
        "id": "tOta6F2rzL1c",
        "outputId": "0432e2ac-1693-4700-c764-68abacc2c8ed"
      },
      "execution_count": null,
      "outputs": [
        {
          "output_type": "stream",
          "name": "stdout",
          "text": [
            "Dynamic Unit Conversion Calculator\n",
            "Enter value to convert: 500\n",
            "Enter source unit: Ounce\n",
            "Enter target unit: Pound\n",
            "500.0 ounce is equal to 8000.0 pound\n",
            "Do you want to perform another conversion? (yes/no): Yes\n",
            "Enter value to convert: 500\n",
            "Enter source unit: Yard\n",
            "Enter target unit: Pound\n",
            "500.0 yard is equal to 248027.12160979878 pound\n",
            "Do you want to perform another conversion? (yes/no): Yes\n",
            "Enter value to convert: 500\n",
            "Enter source unit: Yard\n",
            "Enter target unit: Mile\n",
            "500.0 yard is equal to 879997.8127734034 mile\n",
            "Do you want to perform another conversion? (yes/no): Yes\n",
            "Enter value to convert: 500\n",
            "Enter source unit: Foot\n",
            "Enter target unit: Inch\n",
            "500.0 foot is equal to 41.666666666666664 inch\n",
            "Do you want to perform another conversion? (yes/no): No\n",
            "Exiting the calculator. Goodbye!\n"
          ]
        }
      ]
    },
    {
      "cell_type": "markdown",
      "source": [
        "**EXTRA-PRACTICAL-1**"
      ],
      "metadata": {
        "id": "kfQD8H15ELRf"
      }
    },
    {
      "cell_type": "code",
      "source": [
        "#EXTRA-PRACTICAL-1\n",
        "\n",
        "number = int(input(\"Enter the number: \"))\n",
        "sum=0\n",
        "for i in range(1, number+1):\n",
        " sum=sum+i\n",
        "print(sum)\n"
      ],
      "metadata": {
        "colab": {
          "base_uri": "https://localhost:8080/"
        },
        "id": "krbqFH1KEPfU",
        "outputId": "e64e532f-f614-40c8-f2c6-1eff247b13c4"
      },
      "execution_count": null,
      "outputs": [
        {
          "output_type": "stream",
          "name": "stdout",
          "text": [
            "Enter the number: 5\n",
            "15\n"
          ]
        }
      ]
    },
    {
      "cell_type": "markdown",
      "source": [
        "**EXTRA-PRACTICAL-2**"
      ],
      "metadata": {
        "id": "Tr-oH2J8EiLQ"
      }
    },
    {
      "cell_type": "code",
      "source": [
        "#EXTRA-PRACTICAL-2\n",
        "\n",
        "num=int(input(\"Enter the number to print multiplication table: \"))\n",
        "for i in range(1,11):\n",
        " ans=num*i\n",
        " print(f\"{num}X{i}={ans}\")"
      ],
      "metadata": {
        "colab": {
          "base_uri": "https://localhost:8080/"
        },
        "id": "RuitBJaLEg1K",
        "outputId": "0a90496c-59bc-4c17-b9d0-b7cb5d667095"
      },
      "execution_count": null,
      "outputs": [
        {
          "output_type": "stream",
          "name": "stdout",
          "text": [
            "Enter the number to print multiplication table: 30\n",
            "30X1=30\n",
            "30X2=60\n",
            "30X3=90\n",
            "30X4=120\n",
            "30X5=150\n",
            "30X6=180\n",
            "30X7=210\n",
            "30X8=240\n",
            "30X9=270\n",
            "30X10=300\n"
          ]
        }
      ]
    },
    {
      "cell_type": "markdown",
      "source": [
        "**EXTRA-PRACTICAL-3**"
      ],
      "metadata": {
        "id": "h0iLUE0qEqn3"
      }
    },
    {
      "cell_type": "code",
      "source": [
        "#EXTRA-PRACTICAL-3\n",
        "\n",
        "my_list=[1,2,3,4,5]\n",
        "new_list=[]\n",
        "for i in range(len(my_list)):\n",
        " new_list.insert(i,my_list[-1])\n",
        " my_list.pop(-1)\n",
        "print(new_list)"
      ],
      "metadata": {
        "colab": {
          "base_uri": "https://localhost:8080/"
        },
        "id": "rKwIfljaEsFS",
        "outputId": "6a96424a-44f1-4809-cd14-1279b564a98e"
      },
      "execution_count": null,
      "outputs": [
        {
          "output_type": "stream",
          "name": "stdout",
          "text": [
            "[5, 4, 3, 2, 1]\n"
          ]
        }
      ]
    },
    {
      "cell_type": "code",
      "source": [
        "#EXTRA-PRACTICAL-4\n",
        "\n",
        "for i in range(-10,0):\n",
        " print(i)"
      ],
      "metadata": {
        "colab": {
          "base_uri": "https://localhost:8080/"
        },
        "id": "dcQvCSaIE1At",
        "outputId": "797b0d9a-e056-4b8f-8ce4-c58d3405da3b"
      },
      "execution_count": null,
      "outputs": [
        {
          "output_type": "stream",
          "name": "stdout",
          "text": [
            "-10\n",
            "-9\n",
            "-8\n",
            "-7\n",
            "-6\n",
            "-5\n",
            "-4\n",
            "-3\n",
            "-2\n",
            "-1\n"
          ]
        }
      ]
    },
    {
      "cell_type": "markdown",
      "source": [
        "**EXTRA-PRACTICAL-5**"
      ],
      "metadata": {
        "id": "7owTN3nNJCXH"
      }
    },
    {
      "cell_type": "code",
      "source": [
        "#EXTRA-PRACTICAL-5\n",
        "\n",
        "my_list=['Het','Parin','Khush','Vansh','Pal']\n",
        "#Accessing specific list elements\n",
        "print(\"Specific element: \",my_list[4])\n",
        "#Negative indexing\n",
        "print(\"Negative Indexing: \",my_list[-4] )\n",
        "#Slicing\n",
        "print(\"Sliced List: \",my_list[0:4])\n",
        "#Add elements\n",
        "my_list.append('Khush')\n",
        "print(\"New list: \",my_list)\n",
        "#Change list items\n",
        "my_list[4]='Vansh'\n",
        "print(\"Changed list: \",my_list)\n",
        "#Remove list items\n",
        "my_list.remove('Parin')\n",
        "print(\"Updated List: \",my_list)\n",
        "#Iterate through list\n",
        "print(\"List: \")\n",
        "for i in my_list:\n",
        " print(i)"
      ],
      "metadata": {
        "colab": {
          "base_uri": "https://localhost:8080/"
        },
        "id": "-BX4LZugE1po",
        "outputId": "bffb85f2-548b-43d5-9b8d-1d388a070b6f"
      },
      "execution_count": 1,
      "outputs": [
        {
          "output_type": "stream",
          "name": "stdout",
          "text": [
            "Specific element:  Pal\n",
            "Negative Indexing:  Parin\n",
            "Sliced List:  ['Het', 'Parin', 'Khush', 'Vansh']\n",
            "New list:  ['Het', 'Parin', 'Khush', 'Vansh', 'Pal', 'Khush']\n",
            "Changed list:  ['Het', 'Parin', 'Khush', 'Vansh', 'Vansh', 'Khush']\n",
            "Updated List:  ['Het', 'Khush', 'Vansh', 'Vansh', 'Khush']\n",
            "List: \n",
            "Het\n",
            "Khush\n",
            "Vansh\n",
            "Vansh\n",
            "Khush\n"
          ]
        }
      ]
    },
    {
      "cell_type": "markdown",
      "source": [
        "**EXTRA-PRACTICAL-6**"
      ],
      "metadata": {
        "id": "r_yoOYIwJEp_"
      }
    },
    {
      "cell_type": "code",
      "source": [
        "#EXTRA-PRACTICAL-6\n",
        "\n",
        "my_dic={'Name' : 'Khush','En.No.' : '226470307032', 'SPI' : '9.00'}\n",
        "#Length Dictionary\n",
        "print(\"Length of dictionary: \",len(my_dic))\n",
        "#Accessing dictionary items\n",
        "print(\"*****Dictionary Items*****\")\n",
        "for key,values in my_dic.items():\n",
        " print(key, \"->\" ,values)\n",
        "#Change dictionary items\n",
        "my_dic['SPI']=8.80\n",
        "print(my_dic)\n",
        "#Add items\n",
        "my_dic['Department']='Computer'\n",
        "print(\"Added dictionary: \",my_dic)\n",
        "#Remove dictionary items\n",
        "temp=my_dic.pop('SPI')\n",
        "print(\"Removed dictionary: \",temp)"
      ],
      "metadata": {
        "colab": {
          "base_uri": "https://localhost:8080/"
        },
        "id": "jbeBo-VhJAUA",
        "outputId": "41893c8b-dfc0-4001-e3e6-da17cee2443e"
      },
      "execution_count": null,
      "outputs": [
        {
          "output_type": "stream",
          "name": "stdout",
          "text": [
            "Length of dictionary:  3\n",
            "*****Dictionary Items*****\n",
            "Name -> Khush\n",
            "En.No. -> 226470307032\n",
            "SPI -> 9.00\n",
            "{'Name': 'Khush', 'En.No.': '226470307032', 'SPI': 8.8}\n",
            "Added dictionary:  {'Name': 'Khush', 'En.No.': '226470307032', 'SPI': 8.8, 'Department': 'Computer'}\n",
            "Removed dictionary:  8.8\n"
          ]
        }
      ]
    },
    {
      "cell_type": "markdown",
      "source": [
        "**EXTRA-PRACTICAL-7**"
      ],
      "metadata": {
        "id": "rXq-BqbGJgcR"
      }
    },
    {
      "cell_type": "code",
      "source": [
        "#EXTRA-PRACTICAL-7\n",
        "\n",
        "low = int(input(\"Enter the lower limit: \"))\n",
        "high = int(input(\"Enter the higher limit: \"))\n",
        "print(f\"Prime numbers between {low} and {high} are: \")\n",
        "primes = []\n",
        "\n",
        "for i in range(low, high + 1):\n",
        "    flag = 0\n",
        "    if i < 2:\n",
        "        continue\n",
        "    if i == 2:\n",
        "        primes.append(2)\n",
        "        continue\n",
        "    for x in range(2, i):\n",
        "        if i % x == 0:\n",
        "            flag = 1\n",
        "            break\n",
        "    if flag == 0:\n",
        "        primes.append(i)\n",
        "\n",
        "print(primes)"
      ],
      "metadata": {
        "colab": {
          "base_uri": "https://localhost:8080/"
        },
        "id": "4ERMeYs2Jdbs",
        "outputId": "6066185d-57cb-48bb-93c6-c02ef1a9e6e6"
      },
      "execution_count": null,
      "outputs": [
        {
          "output_type": "stream",
          "name": "stdout",
          "text": [
            "Enter the lower limit: 10\n",
            "Enter the higher limit: 20\n",
            "Prime numbers between 10 and 20 are: \n",
            "[11, 13, 17, 19]\n"
          ]
        }
      ]
    },
    {
      "cell_type": "markdown",
      "source": [
        "**EXTRA-PRACTICAL-8**"
      ],
      "metadata": {
        "id": "akq_Q6zwJ9ZV"
      }
    },
    {
      "cell_type": "code",
      "source": [
        "#EXTRA-PRACTICAL-8\n",
        "\n",
        "def fibonacci(n):\n",
        "    fib_series = []\n",
        "    a, b = 0, 1\n",
        "    while len(fib_series) < n:\n",
        "        fib_series.append(a)\n",
        "        a, b = b, a + b\n",
        "    return fib_series\n",
        "\n",
        "n = int(input(\"Enter the number of terms: \"))\n",
        "\n",
        "if n < 0:\n",
        "    print(\"Please enter a positive number.\")\n",
        "elif n==0:\n",
        "    print(\"Please enter the greater number then 0\")\n",
        "else:\n",
        "    fib_series = fibonacci(n)\n",
        "    print(\"Fibonacci Series up to\", n, \"terms:\")\n",
        "    print(fib_series)\n"
      ],
      "metadata": {
        "colab": {
          "base_uri": "https://localhost:8080/"
        },
        "id": "OGNY_sqGJ6q6",
        "outputId": "a09f5ceb-6c13-4d31-df27-f72a81934d61"
      },
      "execution_count": null,
      "outputs": [
        {
          "output_type": "stream",
          "name": "stdout",
          "text": [
            "Enter the number of terms: 10\n",
            "Fibonacci Series up to 10 terms:\n",
            "[0, 1, 1, 2, 3, 5, 8, 13, 21, 34]\n"
          ]
        }
      ]
    },
    {
      "cell_type": "markdown",
      "source": [
        "**EXTRA-PRACTICAL-9**"
      ],
      "metadata": {
        "id": "kQfqCiQLLb2M"
      }
    },
    {
      "cell_type": "code",
      "source": [
        "#EXTRA-PRACTICAL-9\n",
        "\n",
        "factorial = 1\n",
        "num=int(input(\"Enter the value: \"))\n",
        "if num < 0:\n",
        " print(\"Sorry, factorial does not exist for negative numbers\")\n",
        "elif num == 0:\n",
        " print(\"The factorial of 0 is 1\")\n",
        "else:\n",
        " for i in range(1,num + 1):\n",
        "  factorial = factorial*i\n",
        " print(\"The factorial of\",num,\"is\",factorial)"
      ],
      "metadata": {
        "colab": {
          "base_uri": "https://localhost:8080/"
        },
        "id": "WZ68jENCLaNG",
        "outputId": "7921ce34-14e7-4ddb-9f49-79314fd30493"
      },
      "execution_count": null,
      "outputs": [
        {
          "output_type": "stream",
          "name": "stdout",
          "text": [
            "Enter the value: 5\n",
            "The factorial of 5 is 120\n"
          ]
        }
      ]
    },
    {
      "cell_type": "markdown",
      "source": [
        "**EXTRA-PRACTICAL-10**"
      ],
      "metadata": {
        "id": "tw5OXqvALuL8"
      }
    },
    {
      "cell_type": "code",
      "source": [
        "#EXTRA-PRACTICAL-10\n",
        "\n",
        "List1= []\n",
        "n=int(input(\"Enter the number of elements you want to insert in the list: \"))\n",
        "for i in range(0,n):\n",
        " i=int(input(\"Enter the elements in the list: \"))\n",
        " List1.append(i)\n",
        "print('Printing the List Items at Odd Position')\n",
        "print(List1[1:len(List1):2])"
      ],
      "metadata": {
        "colab": {
          "base_uri": "https://localhost:8080/"
        },
        "id": "zji43zYmLqvb",
        "outputId": "3752bc85-eed8-485a-bc8c-a0b1ccbbea13"
      },
      "execution_count": null,
      "outputs": [
        {
          "output_type": "stream",
          "name": "stdout",
          "text": [
            "Enter the number of elements you want to insert in the list: 5\n",
            "Enter the elements in the list: 1\n",
            "Enter the elements in the list: 2\n",
            "Enter the elements in the list: 3\n",
            "Enter the elements in the list: 4\n",
            "Enter the elements in the list: 5\n",
            "Printing the List Items at Odd Position\n",
            "[2, 4]\n"
          ]
        }
      ]
    },
    {
      "cell_type": "markdown",
      "source": [
        "**EXTRA-PRACTICAL-11**"
      ],
      "metadata": {
        "id": "yDw0IuuqMed4"
      }
    },
    {
      "cell_type": "code",
      "source": [
        "#EXTRA-PRACTICAL-11\n",
        "\n",
        "def calculate_cubes(up_to_number):\n",
        " cubes = [i**3 for i in range(1, up_to_number + 1)]\n",
        " return cubes\n",
        "# Replace 'your_number' with the desired number\n",
        "your_number =int(input(\"Enter the number: \"))\n",
        "result = calculate_cubes(your_number)\n",
        "for i, cube in enumerate(result, start=1):\n",
        " print(f\"{i}^3 = {cube}\")"
      ],
      "metadata": {
        "colab": {
          "base_uri": "https://localhost:8080/"
        },
        "id": "Cwpf9YTsMYcn",
        "outputId": "b7a6f498-6a0a-4c4a-ad43-5ed6851a52f8"
      },
      "execution_count": null,
      "outputs": [
        {
          "output_type": "stream",
          "name": "stdout",
          "text": [
            "Enter the number: 15\n",
            "1^3 = 1\n",
            "2^3 = 8\n",
            "3^3 = 27\n",
            "4^3 = 64\n",
            "5^3 = 125\n",
            "6^3 = 216\n",
            "7^3 = 343\n",
            "8^3 = 512\n",
            "9^3 = 729\n",
            "10^3 = 1000\n",
            "11^3 = 1331\n",
            "12^3 = 1728\n",
            "13^3 = 2197\n",
            "14^3 = 2744\n",
            "15^3 = 3375\n"
          ]
        }
      ]
    },
    {
      "cell_type": "markdown",
      "source": [
        "**EXTRA-PRACTICAL-12**"
      ],
      "metadata": {
        "id": "3fafmxOtMm1o"
      }
    },
    {
      "cell_type": "code",
      "source": [
        "#EXTRA-PRACTICAL-12\n",
        "\n",
        "def reverse_integer(number):\n",
        " # Convert the number to a string, reverse it, and convert it back to an integer\n",
        " reversed_number = int(str(number)[::-1])\n",
        " return reversed_number\n",
        "# Replace 'your_number' with the integer you want to reverse\n",
        "your_number =int(input(\"Enter the number: \"))\n",
        "result = reverse_integer(your_number)\n",
        "print(f\"The reversed number is: {result}\")"
      ],
      "metadata": {
        "colab": {
          "base_uri": "https://localhost:8080/"
        },
        "id": "p_Xn4ydSMjYE",
        "outputId": "be6aaf9a-6c1b-4019-fde3-e089975bf5a8"
      },
      "execution_count": null,
      "outputs": [
        {
          "output_type": "stream",
          "name": "stdout",
          "text": [
            "Enter the number: 32\n",
            "The reversed number is: 23\n"
          ]
        }
      ]
    },
    {
      "cell_type": "code",
      "source": [
        "!apt-get install graphviz -y\n",
        "!pip install graphviz\n"
      ],
      "metadata": {
        "colab": {
          "base_uri": "https://localhost:8080/"
        },
        "id": "LAeQ74kVkkh3",
        "outputId": "c04a0a2b-7ce9-4799-8b48-024ad64b0fc8"
      },
      "execution_count": null,
      "outputs": [
        {
          "output_type": "stream",
          "name": "stdout",
          "text": [
            "Reading package lists... Done\n",
            "Building dependency tree... Done\n",
            "Reading state information... Done\n",
            "graphviz is already the newest version (2.42.2-6).\n",
            "0 upgraded, 0 newly installed, 0 to remove and 45 not upgraded.\n",
            "Requirement already satisfied: graphviz in /usr/local/lib/python3.10/dist-packages (0.20.3)\n"
          ]
        }
      ]
    }
  ]
}